{
 "cells": [
  {
   "cell_type": "code",
   "execution_count": 1,
   "metadata": {},
   "outputs": [],
   "source": [
    "import pywren, json, requests, time, bs4\n",
    "import pandas as pd\n",
    "from re import findall\n",
    "import numpy as np"
   ]
  },
  {
   "cell_type": "code",
   "execution_count": 2,
   "metadata": {},
   "outputs": [
    {
     "name": "stdout",
     "output_type": "stream",
     "text": [
      "685\n"
     ]
    }
   ],
   "source": [
    "data = pd.read_csv('expert_info_v1.csv')\n",
    "mobile = \"https://mobile.twitter.com\"\n",
    "tar_accounts = list(set(data['twitter'])\n",
    "print(len(tar_accounts))"
   ]
  },
  {
   "cell_type": "code",
   "execution_count": 62,
   "metadata": {},
   "outputs": [],
   "source": [
    "## for each page, extract followers/ following\n",
    "def Follow(response):\n",
    "    soup = bs4.BeautifulSoup(response, \"html.parser\")\n",
    "    follow = soup.find_all(\"td\", \"info fifty screenname\")\n",
    "    cursor = soup.find_all(\"div\", \"w-button-more\")\n",
    "    try: cursor = findall(r'cursor=(.*?)\">', str(cursor))[0]\n",
    "    except IndexError: pass  \n",
    "    follow = [i.find('a')['name'] for i in follow]\n",
    "    return follow, cursor\n",
    "\n",
    "## given a user, loop through its followers/ following pages using cursors\n",
    "def scrape_fols(username, fol):\n",
    "    mobile = \"https://mobile.twitter.com\"\n",
    "    url = f\"{mobile}/{username}/{fol}?lang=en\"\n",
    "    init = '-1'\n",
    "    follower_lst = []\n",
    "    count = 0\n",
    "    \n",
    "    while(len(init)!=0):\n",
    "        if init == '-1': tar_url = url\n",
    "        else: tar_url = url + f\"&cursor={init}\"\n",
    "        r = requests.get(tar_url)\n",
    "        \n",
    "        for i in range(5):\n",
    "            if r: break\n",
    "            else: \n",
    "                time.sleep(3)\n",
    "                r = requests.get(tar_url).text\n",
    "                \n",
    "        if not r: break\n",
    "        \n",
    "        followers, init = Follow(r.text)\n",
    "        follower_lst.extend(followers)\n",
    "        print(len(follower_lst), end = '\\r')\n",
    "    return follower_lst\n",
    "\n",
    "def scrape_user(username):\n",
    "    expert = dict()\n",
    "    expert[\"followers\"] = scrape_fols(username, fol = 'followers')\n",
    "    expert[\"following\"] = scrape_fols(username, fol = 'following')\n",
    "    return {username: expert}"
   ]
  },
  {
   "cell_type": "code",
   "execution_count": 38,
   "metadata": {},
   "outputs": [
    {
     "name": "stdout",
     "output_type": "stream",
     "text": [
      "685\n"
     ]
    }
   ],
   "source": [
    "pwex = pywren.default_executor(job_max_runtime = 500)\n",
    "futures = pwex.map(scrape_user, tar_accounts)\n",
    "print(len(futures))"
   ]
  },
  {
   "cell_type": "code",
   "execution_count": 51,
   "metadata": {},
   "outputs": [
    {
     "name": "stdout",
     "output_type": "stream",
     "text": [
      "615 70\r"
     ]
    }
   ],
   "source": [
    "dones, not_dones = pywren.wait(futures, pywren.ANY_COMPLETED)\n",
    "print(len(dones), len(not_dones), end = '\\r')"
   ]
  },
  {
   "cell_type": "code",
   "execution_count": 52,
   "metadata": {},
   "outputs": [],
   "source": [
    "expert_data = dict()\n",
    "for num, item in enumerate(dones):\n",
    "    try: expert_data.update(item.result())\n",
    "    except (IndexError, AttributeError): continue"
   ]
  },
  {
   "cell_type": "code",
   "execution_count": 54,
   "metadata": {},
   "outputs": [
    {
     "data": {
      "text/plain": [
       "71"
      ]
     },
     "execution_count": 54,
     "metadata": {},
     "output_type": "execute_result"
    }
   ],
   "source": [
    "extra = set(tar_accounts) - expert_data.keys()\n",
    "len(extra)"
   ]
  },
  {
   "cell_type": "code",
   "execution_count": null,
   "metadata": {},
   "outputs": [
    {
     "name": "stdout",
     "output_type": "stream",
     "text": [
      "JuliaGillard\n",
      "330420\r"
     ]
    }
   ],
   "source": [
    "extra = set(tar_accounts) - expert_data.keys()\n",
    "for user in extra:\n",
    "    print(user)\n",
    "    add = scrape_user(user)\n",
    "    expert_data.update(add)\n",
    "    print(len(expert_data[user]['followers']), \n",
    "          len(expert_data[user]['following']))\n",
    "    json.dump(expert_data, open('expert_network.json', 'w'))"
   ]
  },
  {
   "cell_type": "code",
   "execution_count": 48,
   "metadata": {},
   "outputs": [],
   "source": []
  },
  {
   "cell_type": "code",
   "execution_count": null,
   "metadata": {},
   "outputs": [],
   "source": []
  }
 ],
 "metadata": {
  "kernelspec": {
   "display_name": "Python 3",
   "language": "python",
   "name": "python3"
  },
  "language_info": {
   "codemirror_mode": {
    "name": "ipython",
    "version": 3
   },
   "file_extension": ".py",
   "mimetype": "text/x-python",
   "name": "python",
   "nbconvert_exporter": "python",
   "pygments_lexer": "ipython3",
   "version": "3.6.9"
  }
 },
 "nbformat": 4,
 "nbformat_minor": 4
}
